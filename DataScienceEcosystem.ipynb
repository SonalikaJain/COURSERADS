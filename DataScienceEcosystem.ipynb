{
 "cells": [
  {
   "cell_type": "markdown",
   "id": "68efaa55",
   "metadata": {},
   "source": [
    "# Data Science Tools and Ecosystem"
   ]
  },
  {
   "cell_type": "markdown",
   "id": "11d5c27a",
   "metadata": {},
   "source": [
    "# In this notebook, Data Science Tools and Ecosystem are summarized."
   ]
  },
  {
   "cell_type": "markdown",
   "id": "ddbb3639",
   "metadata": {},
   "source": [
    "# **Objectives** :-\n",
    "* **DS LANGUAGES PYTHON, SCALA, JULIA, R.**\n",
    "* **DS LIBRARIES NUMPY, PANDAS, PLOTLY, SCIPY.**\n",
    "* **DS OPEN SOURCE JUPYTER, ORANGE, SPYDER, VS CODE.**"
   ]
  },
  {
   "cell_type": "markdown",
   "id": "d78c400d",
   "metadata": {},
   "source": [
    "# Some of the popular languages that Data Scientists use are:\n",
    "1. Python\n",
    "2. R\n",
    "3. SCALA\n",
    "4. JULIA\n",
    "5. SAS\n",
    "6. JAVA \n",
    "7. JAVASCRIPT\n",
    "8. C++"
   ]
  },
  {
   "cell_type": "markdown",
   "id": "7c1bebf9",
   "metadata": {},
   "source": [
    "# Some of the commonly used libraries used by Data Scientists include:\n",
    "1. NUMPY\n",
    "2. PANDAS\n",
    "3. MATPLOTLIB\n",
    "4. SEABORN\n",
    "5. PLOTLY\n",
    "6. SCIKIT-LEARN\n",
    "7. PYTORCH\n",
    "8. TENSORFLOW\n",
    "9. KERAS\n",
    "10. SCIPY\n"
   ]
  },
  {
   "cell_type": "markdown",
   "id": "4e834fc3",
   "metadata": {},
   "source": [
    "|Data Science Tools|\n",
    "|------------------|\n",
    "|JUPYTER NOTEBOOK|\n",
    "|SPYDER|\n",
    "|RSTUDIO|\n",
    "|PYCHARM COMMUNITY|\n",
    "|VISUAL STUDIO CODE|"
   ]
  },
  {
   "cell_type": "markdown",
   "id": "b7a0fbec",
   "metadata": {},
   "source": [
    "### Below are a few examples of evaluating arithmetic expressions in Python"
   ]
  },
  {
   "cell_type": "code",
   "execution_count": 5,
   "id": "6816e935",
   "metadata": {},
   "outputs": [
    {
     "data": {
      "text/plain": [
       "17"
      ]
     },
     "execution_count": 5,
     "metadata": {},
     "output_type": "execute_result"
    }
   ],
   "source": [
    "# This a simple arithmetic expression to mutiply then add integers.\n",
    "(3*4)+5"
   ]
  },
  {
   "cell_type": "code",
   "execution_count": 6,
   "id": "9e67c7cf",
   "metadata": {},
   "outputs": [
    {
     "data": {
      "text/plain": [
       "3.3333333333333335"
      ]
     },
     "execution_count": 6,
     "metadata": {},
     "output_type": "execute_result"
    }
   ],
   "source": [
    "# This will convert 200 minutes to hours by diving by 60.\n",
    "h= 200/60\n",
    "h"
   ]
  },
  {
   "cell_type": "markdown",
   "id": "1e75415e",
   "metadata": {},
   "source": [
    "## AUTHOR :-\n",
    "SONALIKA JAIN"
   ]
  },
  {
   "cell_type": "code",
   "execution_count": null,
   "id": "959607c8",
   "metadata": {},
   "outputs": [],
   "source": []
  }
 ],
 "metadata": {
  "kernelspec": {
   "display_name": "Python 3 (ipykernel)",
   "language": "python",
   "name": "python3"
  },
  "language_info": {
   "codemirror_mode": {
    "name": "ipython",
    "version": 3
   },
   "file_extension": ".py",
   "mimetype": "text/x-python",
   "name": "python",
   "nbconvert_exporter": "python",
   "pygments_lexer": "ipython3",
   "version": "3.9.13"
  }
 },
 "nbformat": 4,
 "nbformat_minor": 5
}
